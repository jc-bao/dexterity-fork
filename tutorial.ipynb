{
 "cells": [
  {
   "cell_type": "markdown",
   "id": "22cdfa4b",
   "metadata": {},
   "source": [
    "# The MuJoCo `dexterity` Suite"
   ]
  },
  {
   "cell_type": "code",
   "execution_count": null,
   "id": "f50d5838",
   "metadata": {},
   "outputs": [],
   "source": [
    "!pip install dexterity==0.0.1"
   ]
  },
  {
   "cell_type": "code",
   "execution_count": null,
   "id": "41826220",
   "metadata": {},
   "outputs": [],
   "source": [
    "from dexterity import manipulation\n",
    "import dm_env\n",
    "import numpy as np\n",
    "from PIL import Image"
   ]
  },
  {
   "cell_type": "code",
   "execution_count": null,
   "id": "2ebd9c2b",
   "metadata": {},
   "outputs": [],
   "source": [
    "# Print available domains and tasks.\n",
    "for domain, tasks in manipulation.TASKS_BY_DOMAIN.items():\n",
    "    print(domain)\n",
    "    for task in tasks:\n",
    "        print(f\"\\t{task}\")"
   ]
  },
  {
   "cell_type": "code",
   "execution_count": null,
   "id": "83d17df6",
   "metadata": {},
   "outputs": [],
   "source": [
    "env = manipulation.load(domain_name=\"reach\", task_name=\"state_dense\", seed=0)"
   ]
  },
  {
   "cell_type": "code",
   "execution_count": null,
   "id": "e122e6d5",
   "metadata": {},
   "outputs": [],
   "source": [
    "action_spec = env.action_spec()\n",
    "print(action_spec)"
   ]
  },
  {
   "cell_type": "code",
   "execution_count": null,
   "id": "331287dd",
   "metadata": {},
   "outputs": [],
   "source": [
    "obs_spec = env.observation_spec()\n",
    "print(obs_spec)"
   ]
  },
  {
   "cell_type": "code",
   "execution_count": null,
   "id": "225f572e",
   "metadata": {},
   "outputs": [],
   "source": [
    "timestep = env.reset()"
   ]
  },
  {
   "cell_type": "code",
   "execution_count": null,
   "id": "6c02ca5b",
   "metadata": {},
   "outputs": [],
   "source": [
    "Image.fromarray(env.physics.render(camera_id=\"front_close\"))"
   ]
  },
  {
   "cell_type": "code",
   "execution_count": null,
   "id": "ca264d01",
   "metadata": {},
   "outputs": [],
   "source": [
    "def random_policy(timestep: dm_env.TimeStep) -> np.ndarray:\n",
    "    del timestep  # Unused\n",
    "    action = np.random.uniform(action_spec.minimum, action_spec.maximum)\n",
    "    return action.astype(action_spec.dtype)"
   ]
  },
  {
   "cell_type": "code",
   "execution_count": null,
   "id": "9d5c006a",
   "metadata": {},
   "outputs": [],
   "source": [
    "action = random_policy(timestep)\n",
    "\n",
    "for _ in range(5):\n",
    "    timestep = env.step(action)\n",
    "    print(timestep.reward, timestep.discount)"
   ]
  },
  {
   "cell_type": "code",
   "execution_count": null,
   "id": "90db3a20",
   "metadata": {},
   "outputs": [],
   "source": [
    "Image.fromarray(env.physics.render(camera_id=\"front_close\"))"
   ]
  }
 ],
 "metadata": {
  "kernelspec": {
   "display_name": "Python 3 (ipykernel)",
   "language": "python",
   "name": "python3"
  },
  "language_info": {
   "codemirror_mode": {
    "name": "ipython",
    "version": 3
   },
   "file_extension": ".py",
   "mimetype": "text/x-python",
   "name": "python",
   "nbconvert_exporter": "python",
   "pygments_lexer": "ipython3",
   "version": "3.8.13"
  }
 },
 "nbformat": 4,
 "nbformat_minor": 5
}
