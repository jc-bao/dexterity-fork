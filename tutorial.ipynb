{
 "cells": [
  {
   "cell_type": "markdown",
   "id": "22cdfa4b",
   "metadata": {},
   "source": [
    "# The MuJoCo `dexterity` Suite"
   ]
  },
  {
   "cell_type": "markdown",
   "id": "cbc64038",
   "metadata": {},
   "source": [
    "**Note:** A GPU runtime is required to run the notebook. You can switch to one by clicking the `Runtime` menu in the toolbar and selecting `Change runtime type`."
   ]
  },
  {
   "cell_type": "markdown",
   "id": "bffbc71d",
   "metadata": {},
   "source": [
    "### Installing `dexterity` on Colab"
   ]
  },
  {
   "cell_type": "code",
   "execution_count": null,
   "id": "f50d5838",
   "metadata": {},
   "outputs": [],
   "source": [
    "import subprocess\n",
    "\n",
    "if subprocess.run(\"nvidia-smi\").returncode:\n",
    "    raise RuntimeError(\n",
    "        \"Cannot communicate with GPU. \"\n",
    "        \"Make sure you are using a GPU Colab runtime. \"\n",
    "        \"Go to the Runtime menu and select Choose runtime type.\"\n",
    "    )\n",
    "\n",
    "print(\"Installing dexterity...\")\n",
    "!pip install -q --upgrade dexterity\n",
    "\n",
    "# Configure dm_control to use the EGL rendering backend (requires GPU)\n",
    "%env MUJOCO_GL=egl"
   ]
  },
  {
   "cell_type": "markdown",
   "id": "5287c4cd",
   "metadata": {},
   "source": [
    "### Imports"
   ]
  },
  {
   "cell_type": "code",
   "execution_count": null,
   "id": "41826220",
   "metadata": {},
   "outputs": [],
   "source": [
    "from dexterity import manipulation\n",
    "import dm_env\n",
    "import numpy as np\n",
    "from PIL import Image"
   ]
  },
  {
   "cell_type": "code",
   "execution_count": null,
   "id": "2ebd9c2b",
   "metadata": {},
   "outputs": [],
   "source": [
    "# Print available domains and tasks.\n",
    "for domain, tasks in manipulation.TASKS_BY_DOMAIN.items():\n",
    "    print(domain)\n",
    "    for task in tasks:\n",
    "        print(f\"\\t{task}\")"
   ]
  },
  {
   "cell_type": "code",
   "execution_count": null,
   "id": "83d17df6",
   "metadata": {},
   "outputs": [],
   "source": [
    "env = manipulation.load(domain_name=\"roller\", task_name=\"state_dense\", seed=0)"
   ]
  },
  {
   "cell_type": "code",
   "execution_count": null,
   "id": "e122e6d5",
   "metadata": {},
   "outputs": [],
   "source": [
    "action_spec = env.action_spec()\n",
    "print(action_spec)"
   ]
  },
  {
   "cell_type": "code",
   "execution_count": null,
   "id": "331287dd",
   "metadata": {},
   "outputs": [],
   "source": [
    "obs_spec = env.observation_spec()\n",
    "print(obs_spec)"
   ]
  },
  {
   "cell_type": "code",
   "execution_count": null,
   "id": "c39a80f6",
   "metadata": {},
   "outputs": [],
   "source": [
    "# get angle and axis\n",
    "env.task.goal_generator._sampler.axis"
   ]
  },
  {
   "cell_type": "code",
   "execution_count": null,
   "id": "225f572e",
   "metadata": {},
   "outputs": [],
   "source": [
    "\n",
    "timestep = env.reset()"
   ]
  },
  {
   "cell_type": "code",
   "execution_count": null,
   "id": "90d96b98",
   "metadata": {},
   "outputs": [],
   "source": [
    "pretty(timestep.observation)"
   ]
  },
  {
   "cell_type": "code",
   "execution_count": null,
   "id": "6c02ca5b",
   "metadata": {},
   "outputs": [],
   "source": [
    "Image.fromarray(env.physics.render(camera_id=\"front_close\"))"
   ]
  },
  {
   "cell_type": "code",
   "execution_count": null,
   "id": "ca264d01",
   "metadata": {},
   "outputs": [],
   "source": [
    "def random_policy(timestep: dm_env.TimeStep) -> np.ndarray:\n",
    "    del timestep  # Unused\n",
    "    action = np.random.uniform(action_spec.minimum, action_spec.maximum)\n",
    "    return action.astype(action_spec.dtype)"
   ]
  },
  {
   "cell_type": "code",
   "execution_count": null,
   "id": "bcd85f06",
   "metadata": {},
   "outputs": [],
   "source": [
    "def change_pitch_policy(timestep: dm_env.TimeStep) -> np.ndarray:\n",
    "    action = np.zeros(action_spec.shape)\n",
    "    action[3] = 0.02\n",
    "    return action.astype(action_spec.dtype)"
   ]
  },
  {
   "cell_type": "code",
   "execution_count": null,
   "id": "d200d34e",
   "metadata": {},
   "outputs": [],
   "source": [
    "def pretty(d, indent=0):\n",
    "  for key, value in d.items():\n",
    "    print('\\t' * indent + str(key))\n",
    "    if isinstance(value, dict):\n",
    "      pretty(value, indent + 1)\n",
    "    else:\n",
    "      print('\\t' * (indent + 1) + str(value))\n"
   ]
  },
  {
   "cell_type": "code",
   "execution_count": null,
   "id": "9d5c006a",
   "metadata": {},
   "outputs": [],
   "source": [
    "action = change_pitch_policy(timestep)\n",
    "action = np.array([0,0,0,0.05])\n",
    "for _ in range(1):\n",
    "  timestep = env.step(action)\n"
   ]
  },
  {
   "cell_type": "code",
   "execution_count": null,
   "id": "90db3a20",
   "metadata": {},
   "outputs": [],
   "source": [
    "Image.fromarray(env.render(mode=\"rgb_array\"))"
   ]
  },
  {
   "cell_type": "code",
   "execution_count": null,
   "id": "85eb7fb7",
   "metadata": {},
   "outputs": [],
   "source": [
    "print(timestep)"
   ]
  },
  {
   "cell_type": "code",
   "execution_count": null,
   "id": "ce3872e2",
   "metadata": {},
   "outputs": [],
   "source": [
    "from dexterity.utils.dm2gym import GymEnv\n",
    "from dexterity import manipulation\n",
    "\n",
    "env = GymEnv(domain_name=\"roller\", task_name=\"state_dense\")"
   ]
  }
 ],
 "metadata": {
  "kernelspec": {
   "display_name": "Python 3.8.13 ('rl')",
   "language": "python",
   "name": "python3"
  },
  "language_info": {
   "codemirror_mode": {
    "name": "ipython",
    "version": 3
   },
   "file_extension": ".py",
   "mimetype": "text/x-python",
   "name": "python",
   "nbconvert_exporter": "python",
   "pygments_lexer": "ipython3",
   "version": "3.8.13"
  },
  "vscode": {
   "interpreter": {
    "hash": "bf58728769140bed469c3f1c7517edbf13ffa7b6f4a744745895768c3bf5c554"
   }
  }
 },
 "nbformat": 4,
 "nbformat_minor": 5
}
