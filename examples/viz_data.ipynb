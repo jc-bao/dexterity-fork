{
 "cells": [
  {
   "cell_type": "code",
   "execution_count": null,
   "metadata": {},
   "outputs": [],
   "source": [
    "# functions and envs\n",
    "import numpy as np\n",
    "import h5py\n",
    "import gym\n",
    "from tqdm import tqdm\n",
    "import os\n",
    "\n",
    "from dexterity.utils.dm2gym import GymEnv\n",
    "from dexterity import manipulation\n",
    "\n",
    "def pretty(d, indent=0):\n",
    "  for key, value in d.items():\n",
    "    print('\\t' * indent + str(key))\n",
    "    if isinstance(value, dict):\n",
    "      pretty(value, indent + 1)\n",
    "    else:\n",
    "      print('\\t' * (indent + 1) + str(value))\n",
    "\n",
    "def get_keys(h5file):\n",
    "  keys = []\n",
    "  def visitor(name, item):\n",
    "    if isinstance(item, h5py.Dataset):\n",
    "      keys.append(name)\n",
    "  h5file.visititems(visitor)\n",
    "  return keys\n",
    "  \n",
    "env = GymEnv(domain_name=\"roller\", task_name=\"state_dense\")"
   ]
  },
  {
   "cell_type": "code",
   "execution_count": null,
   "metadata": {},
   "outputs": [],
   "source": [
    "# load data\n",
    "dataset_file = h5py.File(\n",
    "      '/Users/reedpan/Desktop/Research/dexterity-fork/examples/logs/relabel.hdf5', 'r')\n",
    "dataset = {k: dataset_file[k][:] for k in get_keys(dataset_file)}\n",
    "dataset_file.close()"
   ]
  },
  {
   "cell_type": "code",
   "execution_count": null,
   "metadata": {},
   "outputs": [],
   "source": [
    "np.set_printoptions(2)\n",
    "for i in range(20):\n",
    "  ag = gym.spaces.utils.unflatten(env.observation_space,(dataset['observations'][i]))['prop/orientation']\n",
    "  g = gym.spaces.utils.unflatten(env.observation_space,(dataset['observations'][i]))['target_prop/orientation']\n",
    "  term = dataset['terminals'][i]\n",
    "  print(ag, g, term)"
   ]
  },
  {
   "cell_type": "code",
   "execution_count": null,
   "metadata": {},
   "outputs": [],
   "source": []
  }
 ],
 "metadata": {
  "kernelspec": {
   "display_name": "Python 3.9.6 ('rl')",
   "language": "python",
   "name": "python3"
  },
  "language_info": {
   "codemirror_mode": {
    "name": "ipython",
    "version": 3
   },
   "file_extension": ".py",
   "mimetype": "text/x-python",
   "name": "python",
   "nbconvert_exporter": "python",
   "pygments_lexer": "ipython3",
   "version": "3.9.6"
  },
  "orig_nbformat": 4,
  "vscode": {
   "interpreter": {
    "hash": "e5eb6902d1900d2decb3bdf7ac16a0c61011659b39aa72c90b1b2afe1472d5be"
   }
  }
 },
 "nbformat": 4,
 "nbformat_minor": 2
}
